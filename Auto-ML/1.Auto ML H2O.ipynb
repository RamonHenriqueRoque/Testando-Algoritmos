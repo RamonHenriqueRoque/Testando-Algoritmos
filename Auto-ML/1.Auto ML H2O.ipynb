{
  "nbformat": 4,
  "nbformat_minor": 0,
  "metadata": {
    "colab": {
      "name": "1.Auto-ML H2O.ipynb",
      "provenance": [],
      "toc_visible": true
    },
    "kernelspec": {
      "name": "python3",
      "display_name": "Python 3"
    },
    "accelerator": "GPU"
  },
  "cells": [
    {
      "cell_type": "markdown",
      "metadata": {
        "id": "TCMOGsgS1zz2"
      },
      "source": [
        "# **Criando uma base de dados**"
      ]
    },
    {
      "cell_type": "code",
      "metadata": {
        "colab": {
          "base_uri": "https://localhost:8080/",
          "height": 0
        },
        "id": "a7lu4Qrc1hKL",
        "outputId": "63d444d1-a70a-4fed-a6e7-7a3ffc32868c"
      },
      "source": [
        "import pandas as pd\r\n",
        "import numpy as np\r\n",
        "\r\n",
        "treino= pd.read_csv(\"/content/train.csv\")\r\n",
        "\r\n",
        "treino.head()"
      ],
      "execution_count": 1,
      "outputs": [
        {
          "output_type": "execute_result",
          "data": {
            "text/html": [
              "<div>\n",
              "<style scoped>\n",
              "    .dataframe tbody tr th:only-of-type {\n",
              "        vertical-align: middle;\n",
              "    }\n",
              "\n",
              "    .dataframe tbody tr th {\n",
              "        vertical-align: top;\n",
              "    }\n",
              "\n",
              "    .dataframe thead th {\n",
              "        text-align: right;\n",
              "    }\n",
              "</style>\n",
              "<table border=\"1\" class=\"dataframe\">\n",
              "  <thead>\n",
              "    <tr style=\"text-align: right;\">\n",
              "      <th></th>\n",
              "      <th>PassengerId</th>\n",
              "      <th>Survived</th>\n",
              "      <th>Pclass</th>\n",
              "      <th>Name</th>\n",
              "      <th>Sex</th>\n",
              "      <th>Age</th>\n",
              "      <th>SibSp</th>\n",
              "      <th>Parch</th>\n",
              "      <th>Ticket</th>\n",
              "      <th>Fare</th>\n",
              "      <th>Cabin</th>\n",
              "      <th>Embarked</th>\n",
              "    </tr>\n",
              "  </thead>\n",
              "  <tbody>\n",
              "    <tr>\n",
              "      <th>0</th>\n",
              "      <td>1</td>\n",
              "      <td>0</td>\n",
              "      <td>3</td>\n",
              "      <td>Braund, Mr. Owen Harris</td>\n",
              "      <td>male</td>\n",
              "      <td>22.0</td>\n",
              "      <td>1</td>\n",
              "      <td>0</td>\n",
              "      <td>A/5 21171</td>\n",
              "      <td>7.2500</td>\n",
              "      <td>NaN</td>\n",
              "      <td>S</td>\n",
              "    </tr>\n",
              "    <tr>\n",
              "      <th>1</th>\n",
              "      <td>2</td>\n",
              "      <td>1</td>\n",
              "      <td>1</td>\n",
              "      <td>Cumings, Mrs. John Bradley (Florence Briggs Th...</td>\n",
              "      <td>female</td>\n",
              "      <td>38.0</td>\n",
              "      <td>1</td>\n",
              "      <td>0</td>\n",
              "      <td>PC 17599</td>\n",
              "      <td>71.2833</td>\n",
              "      <td>C85</td>\n",
              "      <td>C</td>\n",
              "    </tr>\n",
              "    <tr>\n",
              "      <th>2</th>\n",
              "      <td>3</td>\n",
              "      <td>1</td>\n",
              "      <td>3</td>\n",
              "      <td>Heikkinen, Miss. Laina</td>\n",
              "      <td>female</td>\n",
              "      <td>26.0</td>\n",
              "      <td>0</td>\n",
              "      <td>0</td>\n",
              "      <td>STON/O2. 3101282</td>\n",
              "      <td>7.9250</td>\n",
              "      <td>NaN</td>\n",
              "      <td>S</td>\n",
              "    </tr>\n",
              "    <tr>\n",
              "      <th>3</th>\n",
              "      <td>4</td>\n",
              "      <td>1</td>\n",
              "      <td>1</td>\n",
              "      <td>Futrelle, Mrs. Jacques Heath (Lily May Peel)</td>\n",
              "      <td>female</td>\n",
              "      <td>35.0</td>\n",
              "      <td>1</td>\n",
              "      <td>0</td>\n",
              "      <td>113803</td>\n",
              "      <td>53.1000</td>\n",
              "      <td>C123</td>\n",
              "      <td>S</td>\n",
              "    </tr>\n",
              "    <tr>\n",
              "      <th>4</th>\n",
              "      <td>5</td>\n",
              "      <td>0</td>\n",
              "      <td>3</td>\n",
              "      <td>Allen, Mr. William Henry</td>\n",
              "      <td>male</td>\n",
              "      <td>35.0</td>\n",
              "      <td>0</td>\n",
              "      <td>0</td>\n",
              "      <td>373450</td>\n",
              "      <td>8.0500</td>\n",
              "      <td>NaN</td>\n",
              "      <td>S</td>\n",
              "    </tr>\n",
              "  </tbody>\n",
              "</table>\n",
              "</div>"
            ],
            "text/plain": [
              "   PassengerId  Survived  Pclass  ...     Fare Cabin  Embarked\n",
              "0            1         0       3  ...   7.2500   NaN         S\n",
              "1            2         1       1  ...  71.2833   C85         C\n",
              "2            3         1       3  ...   7.9250   NaN         S\n",
              "3            4         1       1  ...  53.1000  C123         S\n",
              "4            5         0       3  ...   8.0500   NaN         S\n",
              "\n",
              "[5 rows x 12 columns]"
            ]
          },
          "metadata": {
            "tags": []
          },
          "execution_count": 1
        }
      ]
    },
    {
      "cell_type": "markdown",
      "metadata": {
        "id": "aCMT2Yj39dhb"
      },
      "source": [
        "#**Arrumando os dados**"
      ]
    },
    {
      "cell_type": "markdown",
      "metadata": {
        "id": "uW0ffzth-IpK"
      },
      "source": [
        "**Excluindo Colunas**"
      ]
    },
    {
      "cell_type": "code",
      "metadata": {
        "colab": {
          "base_uri": "https://localhost:8080/",
          "height": 0
        },
        "id": "rYxirOXQ7YkI",
        "outputId": "b7ed9a86-eb36-4487-cf98-bc8395064394"
      },
      "source": [
        "exclui_coluna= [\"Name\", \"Ticket\", \"Cabin\", \"Embarked\", \"Fare\", \"PassengerId\"]\r\n",
        "treino.drop(columns= exclui_coluna, inplace= True)\r\n",
        "\r\n",
        "treino.head()"
      ],
      "execution_count": 2,
      "outputs": [
        {
          "output_type": "execute_result",
          "data": {
            "text/html": [
              "<div>\n",
              "<style scoped>\n",
              "    .dataframe tbody tr th:only-of-type {\n",
              "        vertical-align: middle;\n",
              "    }\n",
              "\n",
              "    .dataframe tbody tr th {\n",
              "        vertical-align: top;\n",
              "    }\n",
              "\n",
              "    .dataframe thead th {\n",
              "        text-align: right;\n",
              "    }\n",
              "</style>\n",
              "<table border=\"1\" class=\"dataframe\">\n",
              "  <thead>\n",
              "    <tr style=\"text-align: right;\">\n",
              "      <th></th>\n",
              "      <th>Survived</th>\n",
              "      <th>Pclass</th>\n",
              "      <th>Sex</th>\n",
              "      <th>Age</th>\n",
              "      <th>SibSp</th>\n",
              "      <th>Parch</th>\n",
              "    </tr>\n",
              "  </thead>\n",
              "  <tbody>\n",
              "    <tr>\n",
              "      <th>0</th>\n",
              "      <td>0</td>\n",
              "      <td>3</td>\n",
              "      <td>male</td>\n",
              "      <td>22.0</td>\n",
              "      <td>1</td>\n",
              "      <td>0</td>\n",
              "    </tr>\n",
              "    <tr>\n",
              "      <th>1</th>\n",
              "      <td>1</td>\n",
              "      <td>1</td>\n",
              "      <td>female</td>\n",
              "      <td>38.0</td>\n",
              "      <td>1</td>\n",
              "      <td>0</td>\n",
              "    </tr>\n",
              "    <tr>\n",
              "      <th>2</th>\n",
              "      <td>1</td>\n",
              "      <td>3</td>\n",
              "      <td>female</td>\n",
              "      <td>26.0</td>\n",
              "      <td>0</td>\n",
              "      <td>0</td>\n",
              "    </tr>\n",
              "    <tr>\n",
              "      <th>3</th>\n",
              "      <td>1</td>\n",
              "      <td>1</td>\n",
              "      <td>female</td>\n",
              "      <td>35.0</td>\n",
              "      <td>1</td>\n",
              "      <td>0</td>\n",
              "    </tr>\n",
              "    <tr>\n",
              "      <th>4</th>\n",
              "      <td>0</td>\n",
              "      <td>3</td>\n",
              "      <td>male</td>\n",
              "      <td>35.0</td>\n",
              "      <td>0</td>\n",
              "      <td>0</td>\n",
              "    </tr>\n",
              "  </tbody>\n",
              "</table>\n",
              "</div>"
            ],
            "text/plain": [
              "   Survived  Pclass     Sex   Age  SibSp  Parch\n",
              "0         0       3    male  22.0      1      0\n",
              "1         1       1  female  38.0      1      0\n",
              "2         1       3  female  26.0      0      0\n",
              "3         1       1  female  35.0      1      0\n",
              "4         0       3    male  35.0      0      0"
            ]
          },
          "metadata": {
            "tags": []
          },
          "execution_count": 2
        }
      ]
    },
    {
      "cell_type": "markdown",
      "metadata": {
        "id": "zCcIpJLy-WYb"
      },
      "source": [
        "**Transformando categorico em discreto**"
      ]
    },
    {
      "cell_type": "code",
      "metadata": {
        "colab": {
          "base_uri": "https://localhost:8080/"
        },
        "id": "zSQzZ4qR-Toz",
        "outputId": "a27e5763-8f33-4e1a-b2ec-13ecdfaf138d"
      },
      "source": [
        "treino[\"Sex\"]= treino[\"Sex\"].replace([\"male\", \"female\"], [0, 1])\r\n",
        "treino[\"Sex\"].head()"
      ],
      "execution_count": 3,
      "outputs": [
        {
          "output_type": "execute_result",
          "data": {
            "text/plain": [
              "0    0\n",
              "1    1\n",
              "2    1\n",
              "3    1\n",
              "4    0\n",
              "Name: Sex, dtype: int64"
            ]
          },
          "metadata": {
            "tags": []
          },
          "execution_count": 3
        }
      ]
    },
    {
      "cell_type": "markdown",
      "metadata": {
        "id": "2gOiTcxuCeoH"
      },
      "source": [
        "**Trantando Numeros Nulos**"
      ]
    },
    {
      "cell_type": "code",
      "metadata": {
        "colab": {
          "base_uri": "https://localhost:8080/"
        },
        "id": "6Siof-T8Asn2",
        "outputId": "8514c4bc-1ae8-4bdb-a8c2-70413c820e99"
      },
      "source": [
        "treino.isnull().sum()"
      ],
      "execution_count": 4,
      "outputs": [
        {
          "output_type": "execute_result",
          "data": {
            "text/plain": [
              "Survived      0\n",
              "Pclass        0\n",
              "Sex           0\n",
              "Age         177\n",
              "SibSp         0\n",
              "Parch         0\n",
              "dtype: int64"
            ]
          },
          "metadata": {
            "tags": []
          },
          "execution_count": 4
        }
      ]
    },
    {
      "cell_type": "code",
      "metadata": {
        "colab": {
          "base_uri": "https://localhost:8080/",
          "height": 0
        },
        "id": "Osn9ThXGCxHX",
        "outputId": "4f8c204d-32a0-4187-8694-35b9373ae422"
      },
      "source": [
        "# Age\r\n",
        "def idade_mediana(df):\r\n",
        "  mediana= df[\"Age\"].median()\r\n",
        "  df.update(df[\"Age\"].fillna(mediana))\r\n",
        "  return(df)\r\n",
        "\r\n",
        "treino= idade_mediana(treino)\r\n",
        "treino.head()"
      ],
      "execution_count": 5,
      "outputs": [
        {
          "output_type": "execute_result",
          "data": {
            "text/html": [
              "<div>\n",
              "<style scoped>\n",
              "    .dataframe tbody tr th:only-of-type {\n",
              "        vertical-align: middle;\n",
              "    }\n",
              "\n",
              "    .dataframe tbody tr th {\n",
              "        vertical-align: top;\n",
              "    }\n",
              "\n",
              "    .dataframe thead th {\n",
              "        text-align: right;\n",
              "    }\n",
              "</style>\n",
              "<table border=\"1\" class=\"dataframe\">\n",
              "  <thead>\n",
              "    <tr style=\"text-align: right;\">\n",
              "      <th></th>\n",
              "      <th>Survived</th>\n",
              "      <th>Pclass</th>\n",
              "      <th>Sex</th>\n",
              "      <th>Age</th>\n",
              "      <th>SibSp</th>\n",
              "      <th>Parch</th>\n",
              "    </tr>\n",
              "  </thead>\n",
              "  <tbody>\n",
              "    <tr>\n",
              "      <th>0</th>\n",
              "      <td>0</td>\n",
              "      <td>3</td>\n",
              "      <td>0</td>\n",
              "      <td>22.0</td>\n",
              "      <td>1</td>\n",
              "      <td>0</td>\n",
              "    </tr>\n",
              "    <tr>\n",
              "      <th>1</th>\n",
              "      <td>1</td>\n",
              "      <td>1</td>\n",
              "      <td>1</td>\n",
              "      <td>38.0</td>\n",
              "      <td>1</td>\n",
              "      <td>0</td>\n",
              "    </tr>\n",
              "    <tr>\n",
              "      <th>2</th>\n",
              "      <td>1</td>\n",
              "      <td>3</td>\n",
              "      <td>1</td>\n",
              "      <td>26.0</td>\n",
              "      <td>0</td>\n",
              "      <td>0</td>\n",
              "    </tr>\n",
              "    <tr>\n",
              "      <th>3</th>\n",
              "      <td>1</td>\n",
              "      <td>1</td>\n",
              "      <td>1</td>\n",
              "      <td>35.0</td>\n",
              "      <td>1</td>\n",
              "      <td>0</td>\n",
              "    </tr>\n",
              "    <tr>\n",
              "      <th>4</th>\n",
              "      <td>0</td>\n",
              "      <td>3</td>\n",
              "      <td>0</td>\n",
              "      <td>35.0</td>\n",
              "      <td>0</td>\n",
              "      <td>0</td>\n",
              "    </tr>\n",
              "  </tbody>\n",
              "</table>\n",
              "</div>"
            ],
            "text/plain": [
              "   Survived  Pclass  Sex   Age  SibSp  Parch\n",
              "0         0       3    0  22.0      1      0\n",
              "1         1       1    1  38.0      1      0\n",
              "2         1       3    1  26.0      0      0\n",
              "3         1       1    1  35.0      1      0\n",
              "4         0       3    0  35.0      0      0"
            ]
          },
          "metadata": {
            "tags": []
          },
          "execution_count": 5
        }
      ]
    },
    {
      "cell_type": "markdown",
      "metadata": {
        "id": "ej-0O7-N3EiQ"
      },
      "source": [
        "#**Utilizando Auto-ML H2O**\r\n"
      ]
    },
    {
      "cell_type": "code",
      "metadata": {
        "id": "I_B5zjc2NXwZ"
      },
      "source": [
        "!pip install h2o"
      ],
      "execution_count": null,
      "outputs": []
    },
    {
      "cell_type": "markdown",
      "metadata": {
        "id": "RxDWIF45N6FW"
      },
      "source": [
        "**Modelo**"
      ]
    },
    {
      "cell_type": "code",
      "metadata": {
        "id": "VheNPIT3ZOGV"
      },
      "source": [
        "import h2o\r\n",
        "from h2o.automl import H2OAutoML\r\n",
        "\r\n",
        "h2o.init()          # Conectar o h20\r\n",
        "\r\n",
        "# Arrumando a base para o H2O\r\n",
        "base_H2O= h2o.H2OFrame(treino)\r\n",
        "base_H2O[\"Survived\"]= base_H2O[\"Survived\"].asfactor()          # Para Classificação"
      ],
      "execution_count": null,
      "outputs": []
    },
    {
      "cell_type": "code",
      "metadata": {
        "colab": {
          "base_uri": "https://localhost:8080/"
        },
        "id": "nk8FEcPqZpj2",
        "outputId": "6cc9c1f4-1a55-47f0-a20a-3415d6d02611"
      },
      "source": [
        "# Modelo\r\n",
        "auto_ml_h2o= H2OAutoML(max_models=30, seed=1)\r\n",
        "auto_ml_h2o.train(x= [i for i in base_H2O.columns if (i != \"Survived\")],   # Nome das colunas X\r\n",
        "                  y= \"Survived\",                                           # Target\r\n",
        "                  training_frame= base_H2O)                                # Base"
      ],
      "execution_count": 16,
      "outputs": [
        {
          "output_type": "stream",
          "text": [
            "AutoML progress: |████████████████████████████████████████████████████████| 100%\n"
          ],
          "name": "stdout"
        }
      ]
    },
    {
      "cell_type": "code",
      "metadata": {
        "colab": {
          "base_uri": "https://localhost:8080/",
          "height": 250
        },
        "id": "a-qaN7CAaAlu",
        "outputId": "39ed7f6d-a134-47fb-fa3b-d8dc07c4d0b0"
      },
      "source": [
        "# Mostrar os resultados\r\n",
        "auto_ml_h2o.leaderboard"
      ],
      "execution_count": 23,
      "outputs": [
        {
          "output_type": "display_data",
          "data": {
            "text/html": [
              "<table>\n",
              "<thead>\n",
              "<tr><th>model_id                                           </th><th style=\"text-align: right;\">     auc</th><th style=\"text-align: right;\">  logloss</th><th style=\"text-align: right;\">   aucpr</th><th style=\"text-align: right;\">  mean_per_class_error</th><th style=\"text-align: right;\">    rmse</th><th style=\"text-align: right;\">     mse</th></tr>\n",
              "</thead>\n",
              "<tbody>\n",
              "<tr><td>StackedEnsemble_BestOfFamily_AutoML_20210213_172126</td><td style=\"text-align: right;\">0.861593</td><td style=\"text-align: right;\"> 0.422326</td><td style=\"text-align: right;\">0.831203</td><td style=\"text-align: right;\">              0.187278</td><td style=\"text-align: right;\">0.36179 </td><td style=\"text-align: right;\">0.130892</td></tr>\n",
              "<tr><td>XGBoost_3_AutoML_20210213_172126                   </td><td style=\"text-align: right;\">0.860435</td><td style=\"text-align: right;\"> 0.433343</td><td style=\"text-align: right;\">0.826909</td><td style=\"text-align: right;\">              0.190178</td><td style=\"text-align: right;\">0.365848</td><td style=\"text-align: right;\">0.133845</td></tr>\n",
              "<tr><td>XGBoost_grid__1_AutoML_20210213_172126_model_1     </td><td style=\"text-align: right;\">0.85721 </td><td style=\"text-align: right;\"> 0.440443</td><td style=\"text-align: right;\">0.833573</td><td style=\"text-align: right;\">              0.19073 </td><td style=\"text-align: right;\">0.369723</td><td style=\"text-align: right;\">0.136695</td></tr>\n",
              "<tr><td>StackedEnsemble_AllModels_AutoML_20210213_172126   </td><td style=\"text-align: right;\">0.857141</td><td style=\"text-align: right;\"> 0.423676</td><td style=\"text-align: right;\">0.826268</td><td style=\"text-align: right;\">              0.183468</td><td style=\"text-align: right;\">0.362648</td><td style=\"text-align: right;\">0.131514</td></tr>\n",
              "<tr><td>XGBoost_1_AutoML_20210213_172126                   </td><td style=\"text-align: right;\">0.856557</td><td style=\"text-align: right;\"> 0.436951</td><td style=\"text-align: right;\">0.830778</td><td style=\"text-align: right;\">              0.190226</td><td style=\"text-align: right;\">0.368069</td><td style=\"text-align: right;\">0.135475</td></tr>\n",
              "<tr><td>GBM_4_AutoML_20210213_172126                       </td><td style=\"text-align: right;\">0.856419</td><td style=\"text-align: right;\"> 0.437945</td><td style=\"text-align: right;\">0.83359 </td><td style=\"text-align: right;\">              0.197297</td><td style=\"text-align: right;\">0.367803</td><td style=\"text-align: right;\">0.135279</td></tr>\n",
              "<tr><td>GBM_3_AutoML_20210213_172126                       </td><td style=\"text-align: right;\">0.856307</td><td style=\"text-align: right;\"> 0.434265</td><td style=\"text-align: right;\">0.835545</td><td style=\"text-align: right;\">              0.186799</td><td style=\"text-align: right;\">0.366097</td><td style=\"text-align: right;\">0.134027</td></tr>\n",
              "<tr><td>GBM_grid__1_AutoML_20210213_172126_model_5         </td><td style=\"text-align: right;\">0.855727</td><td style=\"text-align: right;\"> 0.431802</td><td style=\"text-align: right;\">0.825624</td><td style=\"text-align: right;\">              0.188884</td><td style=\"text-align: right;\">0.366906</td><td style=\"text-align: right;\">0.13462 </td></tr>\n",
              "<tr><td>GBM_2_AutoML_20210213_172126                       </td><td style=\"text-align: right;\">0.854965</td><td style=\"text-align: right;\"> 0.431112</td><td style=\"text-align: right;\">0.83412 </td><td style=\"text-align: right;\">              0.19025 </td><td style=\"text-align: right;\">0.364995</td><td style=\"text-align: right;\">0.133221</td></tr>\n",
              "<tr><td>GBM_grid__1_AutoML_20210213_172126_model_1         </td><td style=\"text-align: right;\">0.8548  </td><td style=\"text-align: right;\"> 0.432974</td><td style=\"text-align: right;\">0.819658</td><td style=\"text-align: right;\">              0.198087</td><td style=\"text-align: right;\">0.367179</td><td style=\"text-align: right;\">0.13482 </td></tr>\n",
              "</tbody>\n",
              "</table>"
            ]
          },
          "metadata": {
            "tags": []
          }
        },
        {
          "output_type": "execute_result",
          "data": {
            "text/plain": [
              ""
            ]
          },
          "metadata": {
            "tags": []
          },
          "execution_count": 23
        }
      ]
    }
  ]
}